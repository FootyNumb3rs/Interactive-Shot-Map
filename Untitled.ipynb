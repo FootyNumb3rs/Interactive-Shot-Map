{
 "cells": [
  {
   "cell_type": "code",
   "execution_count": 87,
   "metadata": {},
   "outputs": [
    {
     "data": {
      "text/html": [
       "<iframe id=\"igraph\" scrolling=\"no\" style=\"border:none;\" seamless=\"seamless\" src=\"https://plot.ly/~FootyNumb3rs./157.embed\" height=\"525px\" width=\"100%\"></iframe>"
      ],
      "text/plain": [
       "<plotly.tools.PlotlyDisplay object>"
      ]
     },
     "execution_count": 87,
     "metadata": {},
     "output_type": "execute_result"
    }
   ],
   "source": [
    "import pandas as pd\n",
    "import plotly.graph_objs as go\n",
    "import plotly.plotly as py \n",
    "import pprint as pp\n",
    "\n",
    "\n",
    "df = pd.read_csv('pl_chances.csv',header=0)\n",
    "\n",
    "test_df = df[(df['primaryLocation_y'] != '-')&(df['primaryLocation_x'] != '-') ]\n",
    "test_df = test_df[test_df['primaryLocation_y'].astype(float) < 200]\n",
    "\n",
    "trace1= go.Scatter(x=test_df['primaryLocation_x'],\n",
    "                   y=-test_df['primaryLocation_y'].astype(float),\n",
    "                   mode='markers')\n",
    "\n",
    "lay= go.Layout(images= [dict(\n",
    "                  source=\"https://i.imgur.com/jbnyzAB.png\",\n",
    "                  xref=\"x\",\n",
    "                  yref=\"y\",\n",
    "                  x=0,\n",
    "                  y=10,\n",
    "                  sizex=280,\n",
    "                  sizey=420,\n",
    "                  opacity=1,\n",
    "                  xanchor=\"center\", yanchor=\"top\",\n",
    "                  layer=\"below\")],\n",
    "                xaxis=dict(showgrid=False),\n",
    "                yaxis=dict(showgrid=False))\n",
    "figure = go.Figure(data=[trace1],layout=lay)\n",
    "py.iplot(figure)\n",
    "\n",
    "\n",
    "\n",
    "\n",
    "\n",
    "\n"
   ]
  },
  {
   "cell_type": "code",
   "execution_count": null,
   "metadata": {},
   "outputs": [],
   "source": []
  },
  {
   "cell_type": "code",
   "execution_count": null,
   "metadata": {},
   "outputs": [],
   "source": []
  }
 ],
 "metadata": {
  "kernelspec": {
   "display_name": "Python 3",
   "language": "python",
   "name": "python3"
  },
  "language_info": {
   "codemirror_mode": {
    "name": "ipython",
    "version": 3
   },
   "file_extension": ".py",
   "mimetype": "text/x-python",
   "name": "python",
   "nbconvert_exporter": "python",
   "pygments_lexer": "ipython3",
   "version": "3.6.4"
  }
 },
 "nbformat": 4,
 "nbformat_minor": 2
}
